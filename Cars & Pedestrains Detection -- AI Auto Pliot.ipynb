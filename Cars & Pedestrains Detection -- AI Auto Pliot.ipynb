{
 "cells": [
  {
   "cell_type": "markdown",
   "id": "113c58ad",
   "metadata": {},
   "source": [
    "### Cars & Pedestrains Detection\n",
    "#### Mid night 10th Jan, 2023 -- Alex Chen"
   ]
  },
  {
   "cell_type": "code",
   "execution_count": 1,
   "id": "2630096b",
   "metadata": {},
   "outputs": [],
   "source": [
    "import cv2\n",
    "import numpy as np"
   ]
  },
  {
   "cell_type": "code",
   "execution_count": 2,
   "id": "3b651235",
   "metadata": {},
   "outputs": [],
   "source": [
    "classifier_file = 'car.xml'\n",
    "pedestrain_tracker = cv2.CascadeClassifier('haarcascade_fullbody.xml')\n",
    "car_tracker = cv2.CascadeClassifier(classifier_file)\n",
    "\n",
    "def main():\n",
    "\t\n",
    "\t# reading the input\n",
    "\tcap = cv2.VideoCapture(\"QueenStreet3.mp4\")\n",
    "\tframe_width = int(cap.get(3))\n",
    "\tframe_height = int(cap.get(4))\n",
    "\toutputVideo = cv2.VideoWriter('output.avi',cv2.VideoWriter_fourcc('M','J','P','G'), 30, (frame_width,frame_height))\n",
    "\n",
    "\twhile True:\n",
    "\t\tret, frame = cap.read()\n",
    "\t\tif ret ==True:\n",
    "\t\t\t\n",
    "\t\t\t# adding filled rectangle on each frame\n",
    "\t\t\tcars = car_tracker.detectMultiScale(frame)\n",
    "\t\t\tpedestrain = pedestrain_tracker.detectMultiScale(frame)  \n",
    "\n",
    "\t\t\tfor (x, y, w, h) in cars:\n",
    "\t\t\t\tcv2.rectangle(frame, (x+1, y+2), (x+w, y+h), (255, 0, 0), 2)\n",
    "\t\t\t\tcv2.rectangle(frame, (x, y), (x+w, y+h), (0, 0, 255), 2)\n",
    "        \n",
    "\t\t\tfor (x, y, w, h) in pedestrain:\n",
    "\t\t\t\tcv2.rectangle(frame, (x, y), (x+w, y+h), (0, 255, 255), 2)\n",
    "\t\t\t\n",
    "\t\t\t# writing the new frame in output\n",
    "\t\t\toutputVideo.write(frame)\n",
    "\t\t\tcv2.imshow(\"frame\", frame)\n",
    "\t\t\tif cv2.waitKey(1) & 0xFF == ord('s'):\n",
    "\t\t\t\tbreak\n",
    "\t\telse:\n",
    "\t\t\tbreak\n",
    "\n",
    "\tcv2.destroyAllWindows()\n",
    "\toutputVideo.release()\n",
    "\tcap.release()\n",
    "\n",
    "\n",
    "if __name__ == \"__main__\":\n",
    "\tmain()\n"
   ]
  },
  {
   "cell_type": "code",
   "execution_count": null,
   "id": "85b92807",
   "metadata": {},
   "outputs": [],
   "source": []
  },
  {
   "cell_type": "code",
   "execution_count": null,
   "id": "ac2335b4",
   "metadata": {},
   "outputs": [],
   "source": []
  }
 ],
 "metadata": {
  "kernelspec": {
   "display_name": "Python 3 (ipykernel)",
   "language": "python",
   "name": "python3"
  },
  "language_info": {
   "codemirror_mode": {
    "name": "ipython",
    "version": 3
   },
   "file_extension": ".py",
   "mimetype": "text/x-python",
   "name": "python",
   "nbconvert_exporter": "python",
   "pygments_lexer": "ipython3",
   "version": "3.7.9"
  }
 },
 "nbformat": 4,
 "nbformat_minor": 5
}
